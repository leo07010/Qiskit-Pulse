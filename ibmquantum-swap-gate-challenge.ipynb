{
 "cells": [
  {
   "cell_type": "markdown",
   "metadata": {},
   "source": [
    "![image](dependencies/open-science-prize.png)\n",
    "\n",
    "## Better `SWAP` Gates\n",
    "\n",
    "In this notebook we will generate circuits to characterize the standard `SWAP` gate with the intention of building a better performing `SWAP` gate using Qiskit Pulse. The `SWAP` gate is a two qubit gate which `SWAP`s the states of qubit 1 with qubit 2. The standard `SWAP` gate is implemented as 3 standard `CNOT` gates, i.e. `CNOT`(q1,q2) $\\rightarrow$ `CNOT`(q2,q1) $\\rightarrow$ `CNOT`(q1,q2). It is a gate that is necessary to perform many algorithms especially for hardware platforms which have limited or fixed qubit-qubit connectivity. It thus facilitates gates between qubits that are not physically connected to one another. \n",
    "\n",
    "Unfortunately, the `SWAP` gate is a very costly gate to implement in terms of execution time and error budget, especially if gates must be performed between qubits that are very far from each other.  Therefore, improving the performance of the `SWAP` gate can improve algorithmic performance and can even boost the quantum volume of a given system.\n",
    "\n",
    "**The goal of this challenge is to come up with an improved `SWAP` gate whose fidelity is measured using interleaved randomized benchmarking which will be shown in this notebook.** You may conside using Qiskit Pulse, or work at the gate level using Qiskit's built in gates, to achieve this."
   ]
  },
  {
   "cell_type": "markdown",
   "metadata": {},
   "source": [
    "## Imports"
   ]
  },
  {
   "cell_type": "markdown",
   "metadata": {},
   "source": [
    "Begin by importing the necessary packages and defining the functions we will need for the benchmarking measurements."
   ]
  },
  {
   "cell_type": "code",
   "execution_count": 228,
   "metadata": {},
   "outputs": [],
   "source": [
    "# Needed for functions\n",
    "import numpy as np\n",
    "from matplotlib import pyplot as plt\n",
    "import time\n",
    "from IPython.display import display, clear_output\n",
    "\n",
    "# Qiskit imports\n",
    "import qiskit\n",
    "from qiskit import QuantumCircuit, Aer, IBMQ\n",
    "from qiskit import transpile, schedule, assemble, execute\n",
    "from qiskit.tools.monitor import job_monitor\n",
    "import qiskit.tools.jupyter\n",
    "\n",
    "# Interleaved randomized benchmarking functions\n",
    "from qiskit.ignis.verification import randomized_benchmarking as rb\n",
    "from qiskit.ignis.verification import InterleavedRBFitter\n",
    "\n",
    "# Measurement mitigation\n",
    "from qiskit.ignis.mitigation.measurement import (complete_meas_cal,CompleteMeasFitter)\n",
    "\n",
    "# Qiskit tools for noisy simulation\n",
    "from qiskit.providers.aer import QasmSimulator\n",
    "\n",
    "# Qiskit Pulse imports\n",
    "import qiskit.pulse\n",
    "from qiskit import pulse\n",
    "from qiskit.pulse import library\n",
    "\n",
    "# Suppress warnings\n",
    "import warnings\n",
    "warnings.filterwarnings('ignore')"
   ]
  },
  {
   "cell_type": "markdown",
   "metadata": {},
   "source": [
    "## Load your provider and backend\n",
    "The target backend being used for this work is the IBM Quantum system called `ibmq_casablanca`. You will receive access to `ibm-q-community/ibmquantumawards/open-science` after registering for the Open Science Prize.\n",
    "\n",
    "However, in order to debug more quickly and avoid queues, you may consider using a simulator backend modeled after the real quantum system. This will use the noise model of `ibmq_casablanca` to do simulations. **Note that the fidelities of your measurements will generally be higher on the simulator, but the Open Science Prize is awarded for the best fidelities on the real quantum system.**"
   ]
  },
  {
   "cell_type": "code",
   "execution_count": 229,
   "metadata": {
    "scrolled": false
   },
   "outputs": [
    {
     "name": "stderr",
     "output_type": "stream",
     "text": [
      "ibmqfactory.load_account:WARNING:2021-04-18 21:21:47,451: Credentials are already in use. The existing account in the session will be replaced.\n"
     ]
    }
   ],
   "source": [
    "IBMQ.load_account()\n",
    "provider = IBMQ.get_provider(hub='ibm-q-community', group='ibmquantumawards', project='open-science')\n",
    "backend = provider.get_backend('ibmq_casablanca')"
   ]
  },
  {
   "cell_type": "markdown",
   "metadata": {},
   "source": [
    "To use simulator, uncomment the following line."
   ]
  },
  {
   "cell_type": "code",
   "execution_count": 230,
   "metadata": {},
   "outputs": [],
   "source": [
    "backend = QasmSimulator.from_backend(provider.get_backend('ibmq_casablanca'))"
   ]
  },
  {
   "cell_type": "markdown",
   "metadata": {},
   "source": [
    "## Interleaved Randomized Benchmarking"
   ]
  },
  {
   "cell_type": "markdown",
   "metadata": {},
   "source": [
    "In the following section we use interleaved randomized benchmarking to characterize the standard `SWAP`. This method is robust to SPAM errors. We begin by finding the best `cx` gate on the device."
   ]
  },
  {
   "cell_type": "code",
   "execution_count": 231,
   "metadata": {
    "scrolled": false
   },
   "outputs": [
    {
     "name": "stdout",
     "output_type": "stream",
     "text": [
      "Qubit pair [0, 1] has cx error 0.0480\n",
      "Qubit pair [1, 0] has cx error 0.0480\n",
      "Qubit pair [1, 2] has cx error 0.0453\n",
      "Qubit pair [1, 3] has cx error 0.0188\n",
      "Qubit pair [2, 1] has cx error 0.0453\n",
      "Qubit pair [3, 1] has cx error 0.0188\n",
      "Qubit pair [3, 5] has cx error 0.0097\n",
      "Qubit pair [4, 5] has cx error 0.0084\n",
      "Qubit pair [5, 3] has cx error 0.0097\n",
      "Qubit pair [5, 4] has cx error 0.0084\n",
      "Qubit pair [5, 6] has cx error 0.0078\n",
      "Qubit pair [6, 5] has cx error 0.0078\n",
      "Best cx gate is qubit pair [5, 6] with cx error 0.0078 (0.78%)\n"
     ]
    }
   ],
   "source": [
    "coupling_map = backend.configuration().coupling_map\n",
    "gate_errors_cx = [backend.properties().gate_error('cx', qubit_pair) for qubit_pair in coupling_map]\n",
    "\n",
    "for qubit_pair, gate_error_cx in zip(coupling_map, gate_errors_cx):\n",
    "    print(\"Qubit pair {} has cx error {:.4f}\".format(qubit_pair, gate_error_cx))\n",
    "\n",
    "best_cx_error = min(gate_errors_cx)\n",
    "best_qubit_pair = coupling_map[gate_errors_cx.index(min(gate_errors_cx))]\n",
    "print(\"Best cx gate is qubit pair {} with cx error {:.4f} ({:.2f}%)\".format(best_qubit_pair, best_cx_error, best_cx_error*100))"
   ]
  },
  {
   "cell_type": "markdown",
   "metadata": {},
   "source": [
    "Then, we set up randomized benchmarking as follows. "
   ]
  },
  {
   "cell_type": "code",
   "execution_count": 232,
   "metadata": {},
   "outputs": [],
   "source": [
    "# do RB on swap gate between the qubits that have the cx gate with lowest error\n",
    "q1 = best_qubit_pair[0]\n",
    "q2 = best_qubit_pair[1]\n",
    "\n",
    "# generate the RB circuit parameters\n",
    "length_vector = np.arange(1,200,20)\n",
    "nseeds = 5\n",
    "rb_pattern = [[q1,q2]]"
   ]
  },
  {
   "cell_type": "code",
   "execution_count": 233,
   "metadata": {},
   "outputs": [],
   "source": [
    "from qiskit import QuantumCircuit\n",
    "from qiskit.circuit import Gate\n",
    "\n",
    "circ = QuantumCircuit(1, 1)\n",
    "custom_gate = Gate('my_custom_gate', 1, [3.14, 1])\n",
    "# 3.14 is an arbitrary parameter for demonstration\n",
    "circ.append(custom_gate, [0])\n",
    "circ.measure(0, 0)\n",
    "\n",
    "circ.draw('mpl')\n",
    "with pulse.build(backend, name='custom') as my_schedule:\n",
    "    pulse.play(Gaussian(duration=64, amp=0.2, sigma=8), pulse.drive_channel(0))\n",
    "\n",
    "circ.add_calibration('my_custom_gate', [0], my_schedule, [3.14, 1])\n",
    "# Alternatively: circ.add_calibration(custom_gate, [0], my_schedule)"
   ]
  },
  {
   "cell_type": "code",
   "execution_count": null,
   "metadata": {},
   "outputs": [],
   "source": []
  },
  {
   "cell_type": "code",
   "execution_count": 237,
   "metadata": {},
   "outputs": [
    {
     "data": {
      "image/png": "[encoded data removed]",
      "text/plain": [
       "<Figure size 314.126x144.48 with 1 Axes>"
      ]
     },
     "execution_count": 237,
     "metadata": {},
     "output_type": "execute_result"
    }
   ],
   "source": [
    "\n",
    "circ = transpile(circ, backend)\n",
    "circ.draw('mpl', idle_wires=False)"
   ]
  },
  {
   "cell_type": "code",
   "execution_count": 235,
   "metadata": {},
   "outputs": [
    {
     "name": "stdout",
     "output_type": "stream",
     "text": [
      "Job Status: job has successfully run\n"
     ]
    },
    {
     "ename": "QiskitError",
     "evalue": "'ERROR:  [Experiment 0] Circuit contains invalid instructions {\"gates\": {my_custom_gate}} for \"density_matrix\" method ,  ERROR: Circuit contains invalid instructions {\"gates\": {my_custom_gate}} for \"density_matrix\" method'",
     "output_type": "error",
     "traceback": [
      "\u001b[1;31m---------------------------------------------------------------------------\u001b[0m",
      "\u001b[1;31mQiskitError\u001b[0m                               Traceback (most recent call last)",
      "\u001b[1;32m<ipython-input-235-2a4141f7a4e2>\u001b[0m in \u001b[0;36m<module>\u001b[1;34m\u001b[0m\n\u001b[0;32m      3\u001b[0m \u001b[0mjob_monitor\u001b[0m\u001b[1;33m(\u001b[0m\u001b[0mjob\u001b[0m\u001b[1;33m)\u001b[0m\u001b[1;33m\u001b[0m\u001b[1;33m\u001b[0m\u001b[0m\n\u001b[0;32m      4\u001b[0m \u001b[0mresult\u001b[0m\u001b[1;33m=\u001b[0m\u001b[0mjob\u001b[0m\u001b[1;33m.\u001b[0m\u001b[0mresult\u001b[0m\u001b[1;33m(\u001b[0m\u001b[1;33m)\u001b[0m\u001b[1;33m\u001b[0m\u001b[1;33m\u001b[0m\u001b[0m\n\u001b[1;32m----> 5\u001b[1;33m \u001b[0mcounts\u001b[0m\u001b[1;33m=\u001b[0m\u001b[0mresult\u001b[0m\u001b[1;33m.\u001b[0m\u001b[0mget_counts\u001b[0m\u001b[1;33m(\u001b[0m\u001b[1;33m)\u001b[0m\u001b[1;33m\u001b[0m\u001b[1;33m\u001b[0m\u001b[0m\n\u001b[0m",
      "\u001b[1;32m~\\anaconda3\\lib\\site-packages\\qiskit\\result\\result.py\u001b[0m in \u001b[0;36mget_counts\u001b[1;34m(self, experiment)\u001b[0m\n\u001b[0;32m    261\u001b[0m         \u001b[0mdict_list\u001b[0m \u001b[1;33m=\u001b[0m \u001b[1;33m[\u001b[0m\u001b[1;33m]\u001b[0m\u001b[1;33m\u001b[0m\u001b[1;33m\u001b[0m\u001b[0m\n\u001b[0;32m    262\u001b[0m         \u001b[1;32mfor\u001b[0m \u001b[0mkey\u001b[0m \u001b[1;32min\u001b[0m \u001b[0mexp_keys\u001b[0m\u001b[1;33m:\u001b[0m\u001b[1;33m\u001b[0m\u001b[1;33m\u001b[0m\u001b[0m\n\u001b[1;32m--> 263\u001b[1;33m             \u001b[0mexp\u001b[0m \u001b[1;33m=\u001b[0m \u001b[0mself\u001b[0m\u001b[1;33m.\u001b[0m\u001b[0m_get_experiment\u001b[0m\u001b[1;33m(\u001b[0m\u001b[0mkey\u001b[0m\u001b[1;33m)\u001b[0m\u001b[1;33m\u001b[0m\u001b[1;33m\u001b[0m\u001b[0m\n\u001b[0m\u001b[0;32m    264\u001b[0m             \u001b[1;32mtry\u001b[0m\u001b[1;33m:\u001b[0m\u001b[1;33m\u001b[0m\u001b[1;33m\u001b[0m\u001b[0m\n\u001b[0;32m    265\u001b[0m                 \u001b[0mheader\u001b[0m \u001b[1;33m=\u001b[0m \u001b[0mexp\u001b[0m\u001b[1;33m.\u001b[0m\u001b[0mheader\u001b[0m\u001b[1;33m.\u001b[0m\u001b[0mto_dict\u001b[0m\u001b[1;33m(\u001b[0m\u001b[1;33m)\u001b[0m\u001b[1;33m\u001b[0m\u001b[1;33m\u001b[0m\u001b[0m\n",
      "\u001b[1;32m~\\anaconda3\\lib\\site-packages\\qiskit\\result\\result.py\u001b[0m in \u001b[0;36m_get_experiment\u001b[1;34m(self, key)\u001b[0m\n\u001b[0;32m    385\u001b[0m         \u001b[0mresult_status\u001b[0m \u001b[1;33m=\u001b[0m \u001b[0mgetattr\u001b[0m\u001b[1;33m(\u001b[0m\u001b[0mself\u001b[0m\u001b[1;33m,\u001b[0m \u001b[1;34m'status'\u001b[0m\u001b[1;33m,\u001b[0m \u001b[1;34m'Result was not successful'\u001b[0m\u001b[1;33m)\u001b[0m\u001b[1;33m\u001b[0m\u001b[1;33m\u001b[0m\u001b[0m\n\u001b[0;32m    386\u001b[0m         \u001b[0mexp_status\u001b[0m \u001b[1;33m=\u001b[0m \u001b[0mgetattr\u001b[0m\u001b[1;33m(\u001b[0m\u001b[0mexp\u001b[0m\u001b[1;33m,\u001b[0m \u001b[1;34m'status'\u001b[0m\u001b[1;33m,\u001b[0m \u001b[1;34m'Experiment was not successful'\u001b[0m\u001b[1;33m)\u001b[0m\u001b[1;33m\u001b[0m\u001b[1;33m\u001b[0m\u001b[0m\n\u001b[1;32m--> 387\u001b[1;33m         \u001b[1;32mraise\u001b[0m \u001b[0mQiskitError\u001b[0m\u001b[1;33m(\u001b[0m\u001b[0mresult_status\u001b[0m\u001b[1;33m,\u001b[0m \u001b[1;34m\", \"\u001b[0m\u001b[1;33m,\u001b[0m \u001b[0mexp_status\u001b[0m\u001b[1;33m)\u001b[0m\u001b[1;33m\u001b[0m\u001b[1;33m\u001b[0m\u001b[0m\n\u001b[0m",
      "\u001b[1;31mQiskitError\u001b[0m: 'ERROR:  [Experiment 0] Circuit contains invalid instructions {\"gates\": {my_custom_gate}} for \"density_matrix\" method ,  ERROR: Circuit contains invalid instructions {\"gates\": {my_custom_gate}} for \"density_matrix\" method'"
     ]
    }
   ],
   "source": [
    "job = execute(circ,backend)\n",
    "from qiskit.tools.monitor import job_monitor\n",
    "job_monitor(job)\n",
    "result=job.result()\n",
    "counts=result.get_counts()"
   ]
  },
  {
   "cell_type": "markdown",
   "metadata": {},
   "source": [
    "### Your code goes here\n",
    "\n",
    "The below block is where your SWAP gate can be inserted in order to be characterized. The code below uses the standard implementation of a SWAP gate in Qiskit as an example."
   ]
  },
  {
   "cell_type": "code",
   "execution_count": 238,
   "metadata": {},
   "outputs": [
    {
     "name": "stderr",
     "output_type": "stream",
     "text": [
      "ibmqfactory.load_account:WARNING:2021-04-18 21:22:55,328: Credentials are already in use. The existing account in the session will be replaced.\n"
     ]
    }
   ],
   "source": [
    "import numpy as np\n",
    "# Importing standard Qiskit libraries\n",
    "from qiskit import QuantumCircuit, transpile, Aer, IBMQ, schedule\n",
    "from qiskit.tools.jupyter import *\n",
    "from qiskit.visualization import *\n",
    "from ibm_quantum_widgets import *\n",
    "from qiskit.visualization.pulse_v2 import draw, IQXDebugging\n",
    "from qiskit.providers.aer import QasmSimulator\n",
    "from qiskit import pulse\n",
    "from qiskit.pulse import DriveChannel, ControlChannel, Play, Schedule, Waveform\n",
    "from qiskit.pulse.library import drag, GaussianSquare, Gaussian\n",
    "from qiskit.circuit import Gate\n",
    "\n",
    "##############################################################################################\n",
    "\n",
    "\n",
    "\n",
    "\n",
    "IBMQ.load_account()\n",
    "provider = IBMQ.get_provider(hub='ibm-q-community', group='ibmquantumawards', project='open-science')\n",
    "backend = provider.get_backend('ibmq_casablanca')\n",
    "\n",
    "################################################################################################\n",
    "\n",
    "## load all the backend parameters for pulse\n",
    "back_defaults = backend.defaults()\n",
    "back_configuration = backend.configuration()\n",
    "back_properties = backend.properties()\n",
    "inst_map = back_defaults.instruction_schedule_map\n",
    "\n",
    "dt = back_configuration.dt\n",
    "\n",
    "#################################################################################################\n",
    "control = 6\n",
    "target = 5\n",
    "##################################################################################################\n",
    "\n",
    "\n",
    "\n",
    "\n",
    "# extracting the pre_CR instructions\n",
    "cx_schedule = inst_map.get(\"cx\", qubits=[control, target])\n",
    "pre_instructions = cx_schedule.instructions[0:3]\n",
    "#assert len(cr_instructions) == 5, f\"{cr_instructions} should have 5 instructions\"\n",
    "#pre_instructions\n",
    "\n",
    "#converting the pre_instructions to a schedule\n",
    "pre_schedule = Schedule()\n",
    "for (time, instruction) in pre_instructions:\n",
    "    pre_schedule = pre_schedule.insert(time, instruction)\n",
    "#draw(pre_schedule,style=IQXDebugging(), backend = backend) "
   ]
  },
  {
   "cell_type": "code",
   "execution_count": 239,
   "metadata": {},
   "outputs": [],
   "source": [
    "# extracting CR(pi/4) instructions\n",
    "\n",
    "cx_schedule = inst_map.get(\"cx\", qubits=[control, target])\n",
    "cr_start_index = -1  \n",
    "for i, (_, instruction) in enumerate(cx_schedule.instructions):\n",
    "        # the Cross-Resonance within the CNOT starts with a GaussianSquare Play instruction\n",
    "        if isinstance(instruction, Play):\n",
    "            if isinstance(instruction.pulse, pulse.library.parametric_pulses.GaussianSquare):\n",
    "                cr_start_index = i\n",
    "                break  \n",
    "assert cr_start_index != -1, \"did not find the start of CR\"    \n",
    "cr_instructions = cx_schedule.instructions[cr_start_index:cr_start_index+2]"
   ]
  },
  {
   "cell_type": "code",
   "execution_count": 240,
   "metadata": {},
   "outputs": [],
   "source": [
    "#cr_instructions\n",
    "\n",
    "#CR(pi/8 pulse)\n",
    "subtract_width = int(cr_instructions[1][1].pulse.width/2)\n",
    "\n",
    "new_crp_pulse_duration = cr_instructions[1][1].pulse.duration - subtract_width\n",
    "new_crp_pulse_amp = cr_instructions[1][1].pulse.amp\n",
    "new_crp_pulse_sigma = cr_instructions[1][1].pulse.sigma\n",
    "new_crp_pulse_width = cr_instructions[1][1].pulse.width - subtract_width\n",
    "new_crp_pulse = GaussianSquare(duration = new_crp_pulse_duration, amp = new_crp_pulse_amp, sigma = new_crp_pulse_sigma, width = new_crp_pulse_width, name = 'new_crp_pulse') \n",
    "\n",
    "\n",
    "# CR(-pi/8) pulse\n",
    "new_crm_pulse_duration = cr_instructions[1][1].pulse.duration - subtract_width\n",
    "new_crm_pulse_amp = -cr_instructions[1][1].pulse.amp\n",
    "new_crm_pulse_sigma = cr_instructions[1][1].pulse.sigma\n",
    "new_crm_pulse_width = cr_instructions[1][1].pulse.width - subtract_width\n",
    "new_crm_pulse = GaussianSquare(duration = new_crm_pulse_duration, amp = new_crm_pulse_amp, sigma = new_crm_pulse_sigma, width = new_crm_pulse_width, name = 'new_crm_pulse') \n",
    "\n",
    "\n",
    "#active cancellation plus pulse\n",
    "new_cancelp_pulse_duration = cr_instructions[0][1].pulse.duration - subtract_width\n",
    "new_cancelp_pulse_amp = cr_instructions[0][1].pulse.amp\n",
    "new_cancelp_pulse_sigma = cr_instructions[0][1].pulse.sigma\n",
    "new_cancelp_pulse_width = cr_instructions[0][1].pulse.width - subtract_width\n",
    "new_cancelp_pulse = GaussianSquare(duration = new_cancelp_pulse_duration, amp = new_cancelp_pulse_amp, sigma = new_cancelp_pulse_sigma, width = new_cancelp_pulse_width, name = 'new_cancelp_pulse') \n",
    "\n",
    "\n",
    "\n",
    "# active cancellation minus pulse\n",
    "new_cancelm_pulse_duration = cr_instructions[0][1].pulse.duration - subtract_width\n",
    "new_cancelm_pulse_amp = -cr_instructions[0][1].pulse.amp\n",
    "new_cancelm_pulse_sigma = cr_instructions[0][1].pulse.sigma\n",
    "new_cancelm_pulse_width = cr_instructions[0][1].pulse.width - subtract_width\n",
    "new_cancelm_pulse = GaussianSquare(duration = new_cancelm_pulse_duration, amp = new_cancelm_pulse_amp, sigma = new_cancelm_pulse_sigma, width = new_cancelm_pulse_width, name = 'new_cancelm_pulse') \n",
    "\n",
    "\n",
    "\n",
    "#creating the x_pulse for control qubit\n",
    "x_schedule= inst_map.get('x', qubits=[control])\n",
    "x_pulse_control = x_schedule.instructions[0][1].pulse\n",
    "\n",
    "\n",
    "#creating the x_pulse for target qubit\n",
    "x_schedule = inst_map.get('x', qubits=[target])\n",
    "x_pulse_target = x_schedule.instructions[0][1].pulse\n"
   ]
  },
  {
   "cell_type": "code",
   "execution_count": 258,
   "metadata": {},
   "outputs": [
    {
     "data": {
      "image/png": "[encoded data removed]",
      "text/plain": [
       "<Figure size 936x550.8 with 1 Axes>"
      ]
     },
     "execution_count": 258,
     "metadata": {},
     "output_type": "execute_result"
    }
   ],
   "source": [
    "# build a cr(-pi/2) from cr(-pi/8) schedule \n",
    "\n",
    "with pulse.build(backend,name='CrossResonance') as cr_schedule:\n",
    "    \n",
    "    control_qubit_driveChannel = pulse.drive_channel(control) \n",
    "    target_qubit_driveChannel = pulse.drive_channel(target)\n",
    "    control_channel = cr_instructions[1][1].channel\n",
    "    \n",
    "    pulse.play(x_pulse_control,control_qubit_driveChannel)\n",
    "    \n",
    "    pulse.delay(x_pulse_control.duration,control_channel)\n",
    "    pulse.delay(x_pulse_control.duration,target_qubit_driveChannel)\n",
    "    \n",
    "    pulse.play(new_crp_pulse,control_channel) \n",
    "    pulse.play(new_cancelp_pulse,target_qubit_driveChannel)\n",
    "    \n",
    "    pulse.delay(new_crp_pulse.duration,control_qubit_driveChannel)\n",
    "    \n",
    "    pulse.play(x_pulse_control,control_qubit_driveChannel)\n",
    "    \n",
    "    pulse.delay(x_pulse_control.duration,control_channel)\n",
    "    pulse.delay(x_pulse_control.duration,target_qubit_driveChannel)\n",
    "    \n",
    "    pulse.play(new_crm_pulse,control_channel)\n",
    "    pulse.play(new_cancelm_pulse,target_qubit_driveChannel)\n",
    "    \n",
    "    pulse.delay(new_crm_pulse.duration,control_qubit_driveChannel)\n",
    "    \n",
    "    pulse.play(x_pulse_control,control_qubit_driveChannel)\n",
    "    \n",
    "    pulse.delay(x_pulse_control.duration,control_channel)\n",
    "    pulse.delay(x_pulse_control.duration,target_qubit_driveChannel)\n",
    "    \n",
    "    pulse.play(new_crp_pulse,control_channel) \n",
    "    pulse.play(new_cancelp_pulse,target_qubit_driveChannel)\n",
    "    \n",
    "    pulse.delay(new_crp_pulse.duration,control_qubit_driveChannel)\n",
    "    \n",
    "    pulse.play(x_pulse_control,control_qubit_driveChannel)\n",
    "    \n",
    "    pulse.delay(x_pulse_control.duration,control_channel)\n",
    "    pulse.delay(x_pulse_control.duration,target_qubit_driveChannel)\n",
    "    \n",
    "    pulse.play(new_crm_pulse,control_channel)\n",
    "    pulse.play(new_cancelm_pulse,target_qubit_driveChannel)\n",
    "    \n",
    "    \n",
    "draw(cr_schedule, style=IQXDebugging(), backend = backend)    "
   ]
  },
  {
   "cell_type": "code",
   "execution_count": 259,
   "metadata": {},
   "outputs": [],
   "source": [
    "\n",
    "# build a cnot schedule\n",
    "\n",
    "cnot_schedule = Schedule()\n",
    "cnot_schedule = pre_schedule + cr_schedule \n",
    "    \n",
    "#draw(cnot_schedule, style=IQXDebugging(), backend = backend)    \n",
    "\n",
    "\n"
   ]
  },
  {
   "cell_type": "code",
   "execution_count": 260,
   "metadata": {},
   "outputs": [],
   "source": [
    "\n",
    "# Create abstract quantum gate of pulse schedule.\n",
    "cnot_gate = Gate('cnot_gate', 2,[])\n",
    "\n",
    "# Add cnot_gate to basis_gates and inst_map.\n",
    "back_configuration.basis_gates += ['cnot_gate']\n",
    "inst_map.add(cnot_gate, [control, target], cnot_schedule)\n",
    "\n"
   ]
  },
  {
   "cell_type": "code",
   "execution_count": 267,
   "metadata": {},
   "outputs": [
    {
     "data": {
      "image/png": "[encoded data removed]",
      "text/plain": [
       "<Figure size 327.252x144.48 with 1 Axes>"
      ]
     },
     "execution_count": 267,
     "metadata": {},
     "output_type": "execute_result"
    }
   ],
   "source": [
    "###########################################################################################\n",
    "\n",
    "\n",
    "\n",
    "qc_swap = QuantumCircuit(2)\n",
    "qc = 1\n",
    "qt = 0\n",
    "cnot_gate = Gate('cnot_gate', 2, [])\n",
    "qc_swap.append(cnot_gate,(qc,qt))\n",
    "#qc_swap.h(qc)\n",
    "#qc_swap.h(qt)\n",
    "qc_swap.append(cnot_gate,(qc,qt))\n",
    "#qc_swap.h(qc)\n",
    "#qc_swap.h(qt)\n",
    "#qc_swap.append(cnot_gate,(qc,qt))\n",
    "\n",
    "qc_swap.draw(\"mpl\")\n",
    "\n",
    "############################################################################################\n"
   ]
  },
  {
   "cell_type": "code",
   "execution_count": 268,
   "metadata": {},
   "outputs": [
    {
     "data": {
      "text/plain": [
       "1"
      ]
     },
     "execution_count": 268,
     "metadata": {},
     "output_type": "execute_result"
    }
   ],
   "source": [
    "len(interleaved_elem) \n"
   ]
  },
  {
   "cell_type": "code",
   "execution_count": 269,
   "metadata": {},
   "outputs": [
    {
     "data": {
      "text/plain": [
       "1"
      ]
     },
     "execution_count": 269,
     "metadata": {},
     "output_type": "execute_result"
    }
   ],
   "source": [
    "len(rb_pattern) "
   ]
  },
  {
   "cell_type": "code",
   "execution_count": 270,
   "metadata": {},
   "outputs": [],
   "source": [
    "qc_swap.add_calibration('cnot_gate',[control,target],cnot_schedule,[])\n",
    "#qc_swap=transpile(qc_swap, backend = backend, optimization_level=1, initial_layout=[0,1])\n",
    "#transpiled_swap_circuit.draw()\n",
    "#qc_swap.draw()"
   ]
  },
  {
   "cell_type": "code",
   "execution_count": 271,
   "metadata": {},
   "outputs": [
    {
     "name": "stdout",
     "output_type": "stream",
     "text": [
      "[<qiskit.circuit.quantumcircuit.QuantumCircuit object at 0x0000026CAD352490>]\n",
      "[[5, 6]]\n"
     ]
    }
   ],
   "source": [
    "interleaved_elem = [qc_swap]\n",
    "print(interleaved_elem)\n",
    "print(rb_pattern)"
   ]
  },
  {
   "cell_type": "code",
   "execution_count": 272,
   "metadata": {},
   "outputs": [
    {
     "ename": "QiskitError",
     "evalue": "'Cannot apply Instruction: cnot_gate'",
     "output_type": "error",
     "traceback": [
      "\u001b[1;31m---------------------------------------------------------------------------\u001b[0m",
      "\u001b[1;31mQiskitError\u001b[0m                               Traceback (most recent call last)",
      "\u001b[1;32m<ipython-input-272-a2fc55b531ed>\u001b[0m in \u001b[0;36m<module>\u001b[1;34m\u001b[0m\n\u001b[0;32m      1\u001b[0m \u001b[1;31m# Generate the RB circuits\u001b[0m\u001b[1;33m\u001b[0m\u001b[1;33m\u001b[0m\u001b[1;33m\u001b[0m\u001b[0m\n\u001b[1;32m----> 2\u001b[1;33m rb_circs, xdata, circuits_interleaved = rb.randomized_benchmarking_seq(length_vector=length_vector,\n\u001b[0m\u001b[0;32m      3\u001b[0m                                              \u001b[0mnseeds\u001b[0m\u001b[1;33m=\u001b[0m\u001b[0mnseeds\u001b[0m\u001b[1;33m,\u001b[0m\u001b[1;33m\u001b[0m\u001b[1;33m\u001b[0m\u001b[0m\n\u001b[0;32m      4\u001b[0m                                              \u001b[0mrb_pattern\u001b[0m\u001b[1;33m=\u001b[0m\u001b[0mrb_pattern\u001b[0m\u001b[1;33m,\u001b[0m\u001b[1;33m\u001b[0m\u001b[1;33m\u001b[0m\u001b[0m\n\u001b[0;32m      5\u001b[0m                                              interleaved_elem=[qc_swap])\n",
      "\u001b[1;32m~\\anaconda3\\lib\\site-packages\\qiskit\\ignis\\verification\\randomized_benchmarking\\circuits.py\u001b[0m in \u001b[0;36mrandomized_benchmarking_seq\u001b[1;34m(nseeds, length_vector, rb_pattern, length_multiplier, seed_offset, align_cliffs, interleaved_gates, interleaved_elem, is_purity, group_gates, rand_seed)\u001b[0m\n\u001b[0;32m    402\u001b[0m \u001b[1;33m\u001b[0m\u001b[0m\n\u001b[0;32m    403\u001b[0m     \u001b[1;31m# Handle various types of the interleaved element\u001b[0m\u001b[1;33m\u001b[0m\u001b[1;33m\u001b[0m\u001b[1;33m\u001b[0m\u001b[0m\n\u001b[1;32m--> 404\u001b[1;33m     \u001b[0minterleaved_elem\u001b[0m \u001b[1;33m=\u001b[0m \u001b[0mhandle_interleaved_elem\u001b[0m\u001b[1;33m(\u001b[0m\u001b[0minterleaved_elem\u001b[0m\u001b[1;33m,\u001b[0m \u001b[0mrb_group\u001b[0m\u001b[1;33m)\u001b[0m\u001b[1;33m\u001b[0m\u001b[1;33m\u001b[0m\u001b[0m\n\u001b[0m\u001b[0;32m    405\u001b[0m \u001b[1;33m\u001b[0m\u001b[0m\n\u001b[0;32m    406\u001b[0m     \u001b[1;31m# initialization: rb sequences\u001b[0m\u001b[1;33m\u001b[0m\u001b[1;33m\u001b[0m\u001b[1;33m\u001b[0m\u001b[0m\n",
      "\u001b[1;32m~\\anaconda3\\lib\\site-packages\\qiskit\\ignis\\verification\\randomized_benchmarking\\circuits.py\u001b[0m in \u001b[0;36mhandle_interleaved_elem\u001b[1;34m(interleaved_elem, rb_group)\u001b[0m\n\u001b[0;32m    154\u001b[0m                 \u001b[0mqc\u001b[0m \u001b[1;33m=\u001b[0m \u001b[0melem\u001b[0m\u001b[1;33m\u001b[0m\u001b[1;33m\u001b[0m\u001b[0m\n\u001b[0;32m    155\u001b[0m                 \u001b[0melem\u001b[0m \u001b[1;33m=\u001b[0m \u001b[0mrb_group\u001b[0m\u001b[1;33m.\u001b[0m\u001b[0miden\u001b[0m\u001b[1;33m(\u001b[0m\u001b[0mnum_qubits\u001b[0m\u001b[1;33m)\u001b[0m\u001b[1;33m\u001b[0m\u001b[1;33m\u001b[0m\u001b[0m\n\u001b[1;32m--> 156\u001b[1;33m                 \u001b[0melem\u001b[0m \u001b[1;33m=\u001b[0m \u001b[0melem\u001b[0m\u001b[1;33m.\u001b[0m\u001b[0mfrom_circuit\u001b[0m\u001b[1;33m(\u001b[0m\u001b[0mqc\u001b[0m\u001b[1;33m)\u001b[0m\u001b[1;33m\u001b[0m\u001b[1;33m\u001b[0m\u001b[0m\n\u001b[0m\u001b[0;32m    157\u001b[0m             if (isinstance(elem, qiskit.quantum_info.operators.symplectic.clifford.Clifford)\n\u001b[0;32m    158\u001b[0m                     \u001b[1;32mand\u001b[0m \u001b[0mgroup_gates_type\u001b[0m \u001b[1;33m==\u001b[0m \u001b[1;36m0\u001b[0m\u001b[1;33m)\u001b[0m \u001b[1;32mor\u001b[0m \u001b[1;33m(\u001b[0m\u001b[0misinstance\u001b[0m\u001b[1;33m(\u001b[0m\u001b[0melem\u001b[0m\u001b[1;33m,\u001b[0m \u001b[0mCNOTDihedral\u001b[0m\u001b[1;33m)\u001b[0m\u001b[1;33m\u001b[0m\u001b[1;33m\u001b[0m\u001b[0m\n",
      "\u001b[1;32m~\\anaconda3\\lib\\site-packages\\qiskit\\quantum_info\\operators\\symplectic\\clifford.py\u001b[0m in \u001b[0;36mfrom_circuit\u001b[1;34m(circuit)\u001b[0m\n\u001b[0;32m    399\u001b[0m         \u001b[1;31m# Initialize an identity Clifford\u001b[0m\u001b[1;33m\u001b[0m\u001b[1;33m\u001b[0m\u001b[1;33m\u001b[0m\u001b[0m\n\u001b[0;32m    400\u001b[0m         \u001b[0mclifford\u001b[0m \u001b[1;33m=\u001b[0m \u001b[0mClifford\u001b[0m\u001b[1;33m(\u001b[0m\u001b[0mnp\u001b[0m\u001b[1;33m.\u001b[0m\u001b[0meye\u001b[0m\u001b[1;33m(\u001b[0m\u001b[1;36m2\u001b[0m \u001b[1;33m*\u001b[0m \u001b[0mcircuit\u001b[0m\u001b[1;33m.\u001b[0m\u001b[0mnum_qubits\u001b[0m\u001b[1;33m)\u001b[0m\u001b[1;33m,\u001b[0m \u001b[0mvalidate\u001b[0m\u001b[1;33m=\u001b[0m\u001b[1;32mFalse\u001b[0m\u001b[1;33m)\u001b[0m\u001b[1;33m\u001b[0m\u001b[1;33m\u001b[0m\u001b[0m\n\u001b[1;32m--> 401\u001b[1;33m         \u001b[0m_append_circuit\u001b[0m\u001b[1;33m(\u001b[0m\u001b[0mclifford\u001b[0m\u001b[1;33m,\u001b[0m \u001b[0mcircuit\u001b[0m\u001b[1;33m)\u001b[0m\u001b[1;33m\u001b[0m\u001b[1;33m\u001b[0m\u001b[0m\n\u001b[0m\u001b[0;32m    402\u001b[0m         \u001b[1;32mreturn\u001b[0m \u001b[0mclifford\u001b[0m\u001b[1;33m\u001b[0m\u001b[1;33m\u001b[0m\u001b[0m\n\u001b[0;32m    403\u001b[0m \u001b[1;33m\u001b[0m\u001b[0m\n",
      "\u001b[1;32m~\\anaconda3\\lib\\site-packages\\qiskit\\quantum_info\\operators\\symplectic\\clifford_circuits.py\u001b[0m in \u001b[0;36m_append_circuit\u001b[1;34m(clifford, circuit, qargs)\u001b[0m\n\u001b[0;32m     97\u001b[0m         \u001b[1;31m# Get the integer position of the flat register\u001b[0m\u001b[1;33m\u001b[0m\u001b[1;33m\u001b[0m\u001b[1;33m\u001b[0m\u001b[0m\n\u001b[0;32m     98\u001b[0m         \u001b[0mnew_qubits\u001b[0m \u001b[1;33m=\u001b[0m \u001b[1;33m[\u001b[0m\u001b[0mqargs\u001b[0m\u001b[1;33m[\u001b[0m\u001b[0mqubit_indices\u001b[0m\u001b[1;33m[\u001b[0m\u001b[0mtup\u001b[0m\u001b[1;33m]\u001b[0m\u001b[1;33m]\u001b[0m \u001b[1;32mfor\u001b[0m \u001b[0mtup\u001b[0m \u001b[1;32min\u001b[0m \u001b[0mqregs\u001b[0m\u001b[1;33m]\u001b[0m\u001b[1;33m\u001b[0m\u001b[1;33m\u001b[0m\u001b[0m\n\u001b[1;32m---> 99\u001b[1;33m         \u001b[0m_append_circuit\u001b[0m\u001b[1;33m(\u001b[0m\u001b[0mclifford\u001b[0m\u001b[1;33m,\u001b[0m \u001b[0minstr\u001b[0m\u001b[1;33m,\u001b[0m \u001b[0mnew_qubits\u001b[0m\u001b[1;33m)\u001b[0m\u001b[1;33m\u001b[0m\u001b[1;33m\u001b[0m\u001b[0m\n\u001b[0m\u001b[0;32m    100\u001b[0m     \u001b[1;32mreturn\u001b[0m \u001b[0mclifford\u001b[0m\u001b[1;33m\u001b[0m\u001b[1;33m\u001b[0m\u001b[0m\n\u001b[0;32m    101\u001b[0m \u001b[1;33m\u001b[0m\u001b[0m\n",
      "\u001b[1;32m~\\anaconda3\\lib\\site-packages\\qiskit\\quantum_info\\operators\\symplectic\\clifford_circuits.py\u001b[0m in \u001b[0;36m_append_circuit\u001b[1;34m(clifford, circuit, qargs)\u001b[0m\n\u001b[0;32m     85\u001b[0m     \u001b[1;31m# are a single qubit Clifford gate rather than raise an exception.\u001b[0m\u001b[1;33m\u001b[0m\u001b[1;33m\u001b[0m\u001b[1;33m\u001b[0m\u001b[0m\n\u001b[0;32m     86\u001b[0m     \u001b[1;32mif\u001b[0m \u001b[0mgate\u001b[0m\u001b[1;33m.\u001b[0m\u001b[0mdefinition\u001b[0m \u001b[1;32mis\u001b[0m \u001b[1;32mNone\u001b[0m\u001b[1;33m:\u001b[0m\u001b[1;33m\u001b[0m\u001b[1;33m\u001b[0m\u001b[0m\n\u001b[1;32m---> 87\u001b[1;33m         \u001b[1;32mraise\u001b[0m \u001b[0mQiskitError\u001b[0m\u001b[1;33m(\u001b[0m\u001b[1;34m'Cannot apply Instruction: {}'\u001b[0m\u001b[1;33m.\u001b[0m\u001b[0mformat\u001b[0m\u001b[1;33m(\u001b[0m\u001b[0mgate\u001b[0m\u001b[1;33m.\u001b[0m\u001b[0mname\u001b[0m\u001b[1;33m)\u001b[0m\u001b[1;33m)\u001b[0m\u001b[1;33m\u001b[0m\u001b[1;33m\u001b[0m\u001b[0m\n\u001b[0m\u001b[0;32m     88\u001b[0m     \u001b[1;32mif\u001b[0m \u001b[1;32mnot\u001b[0m \u001b[0misinstance\u001b[0m\u001b[1;33m(\u001b[0m\u001b[0mgate\u001b[0m\u001b[1;33m.\u001b[0m\u001b[0mdefinition\u001b[0m\u001b[1;33m,\u001b[0m \u001b[0mQuantumCircuit\u001b[0m\u001b[1;33m)\u001b[0m\u001b[1;33m:\u001b[0m\u001b[1;33m\u001b[0m\u001b[1;33m\u001b[0m\u001b[0m\n\u001b[0;32m     89\u001b[0m         raise QiskitError('{} instruction definition is {}; expected QuantumCircuit'.format(\n",
      "\u001b[1;31mQiskitError\u001b[0m: 'Cannot apply Instruction: cnot_gate'"
     ]
    }
   ],
   "source": [
    "# Generate the RB circuits\n",
    "rb_circs, xdata, circuits_interleaved = rb.randomized_benchmarking_seq(length_vector=length_vector,\n",
    "                                             nseeds=nseeds,\n",
    "                                             rb_pattern=rb_pattern,\n",
    "                                             interleaved_elem=[qc_swap])"
   ]
  },
  {
   "cell_type": "code",
   "execution_count": 187,
   "metadata": {},
   "outputs": [
    {
     "name": "stdout",
     "output_type": "stream",
     "text": [
      "Compiling seed 0\n",
      "Simulating seed 0\n",
      "Job Status: job is queued (None)  "
     ]
    },
    {
     "ename": "KeyboardInterrupt",
     "evalue": "",
     "output_type": "error",
     "traceback": [
      "\u001b[1;31m---------------------------------------------------------------------------\u001b[0m",
      "\u001b[1;31mKeyboardInterrupt\u001b[0m                         Traceback (most recent call last)",
      "\u001b[1;32m<ipython-input-187-e1830121696d>\u001b[0m in \u001b[0;36m<module>\u001b[1;34m\u001b[0m\n\u001b[0;32m      9\u001b[0m     \u001b[0mprint\u001b[0m\u001b[1;33m(\u001b[0m\u001b[1;34m'Simulating seed %d'\u001b[0m\u001b[1;33m%\u001b[0m\u001b[0mrb_seed\u001b[0m\u001b[1;33m)\u001b[0m\u001b[1;33m\u001b[0m\u001b[1;33m\u001b[0m\u001b[0m\n\u001b[0;32m     10\u001b[0m     \u001b[0mjob\u001b[0m \u001b[1;33m=\u001b[0m \u001b[0mexecute\u001b[0m\u001b[1;33m(\u001b[0m\u001b[0mrb_circ_transpile\u001b[0m\u001b[1;33m,\u001b[0m \u001b[0mshots\u001b[0m\u001b[1;33m=\u001b[0m\u001b[0mshots\u001b[0m\u001b[1;33m,\u001b[0m \u001b[0mbackend\u001b[0m\u001b[1;33m=\u001b[0m\u001b[0mbackend\u001b[0m\u001b[1;33m)\u001b[0m\u001b[1;33m\u001b[0m\u001b[1;33m\u001b[0m\u001b[0m\n\u001b[1;32m---> 11\u001b[1;33m     \u001b[0mjob_monitor\u001b[0m\u001b[1;33m(\u001b[0m\u001b[0mjob\u001b[0m\u001b[1;33m)\u001b[0m\u001b[1;33m\u001b[0m\u001b[1;33m\u001b[0m\u001b[0m\n\u001b[0m\u001b[0;32m     12\u001b[0m \u001b[1;33m\u001b[0m\u001b[0m\n\u001b[0;32m     13\u001b[0m     \u001b[0mresult_list\u001b[0m\u001b[1;33m.\u001b[0m\u001b[0mappend\u001b[0m\u001b[1;33m(\u001b[0m\u001b[0mjob\u001b[0m\u001b[1;33m.\u001b[0m\u001b[0mresult\u001b[0m\u001b[1;33m(\u001b[0m\u001b[1;33m)\u001b[0m\u001b[1;33m)\u001b[0m\u001b[1;33m\u001b[0m\u001b[1;33m\u001b[0m\u001b[0m\n",
      "\u001b[1;32m~\\anaconda3\\lib\\site-packages\\qiskit\\tools\\monitor\\job_monitor.py\u001b[0m in \u001b[0;36mjob_monitor\u001b[1;34m(job, interval, quiet, output)\u001b[0m\n\u001b[0;32m     81\u001b[0m         \u001b[0m_interval_set\u001b[0m \u001b[1;33m=\u001b[0m \u001b[1;32mTrue\u001b[0m\u001b[1;33m\u001b[0m\u001b[1;33m\u001b[0m\u001b[0m\n\u001b[0;32m     82\u001b[0m \u001b[1;33m\u001b[0m\u001b[0m\n\u001b[1;32m---> 83\u001b[1;33m     _text_checker(job, interval, _interval_set,\n\u001b[0m\u001b[0;32m     84\u001b[0m                   quiet=quiet, output=output)\n",
      "\u001b[1;32m~\\anaconda3\\lib\\site-packages\\qiskit\\tools\\monitor\\job_monitor.py\u001b[0m in \u001b[0;36m_text_checker\u001b[1;34m(job, interval, _interval_set, quiet, output)\u001b[0m\n\u001b[0;32m     39\u001b[0m     \u001b[1;32mwhile\u001b[0m \u001b[0mstatus\u001b[0m\u001b[1;33m.\u001b[0m\u001b[0mname\u001b[0m \u001b[1;32mnot\u001b[0m \u001b[1;32min\u001b[0m \u001b[1;33m[\u001b[0m\u001b[1;34m'DONE'\u001b[0m\u001b[1;33m,\u001b[0m \u001b[1;34m'CANCELLED'\u001b[0m\u001b[1;33m,\u001b[0m \u001b[1;34m'ERROR'\u001b[0m\u001b[1;33m]\u001b[0m\u001b[1;33m:\u001b[0m\u001b[1;33m\u001b[0m\u001b[1;33m\u001b[0m\u001b[0m\n\u001b[0;32m     40\u001b[0m         \u001b[0mtime\u001b[0m\u001b[1;33m.\u001b[0m\u001b[0msleep\u001b[0m\u001b[1;33m(\u001b[0m\u001b[0minterval\u001b[0m\u001b[1;33m)\u001b[0m\u001b[1;33m\u001b[0m\u001b[1;33m\u001b[0m\u001b[0m\n\u001b[1;32m---> 41\u001b[1;33m         \u001b[0mstatus\u001b[0m \u001b[1;33m=\u001b[0m \u001b[0mjob\u001b[0m\u001b[1;33m.\u001b[0m\u001b[0mstatus\u001b[0m\u001b[1;33m(\u001b[0m\u001b[1;33m)\u001b[0m\u001b[1;33m\u001b[0m\u001b[1;33m\u001b[0m\u001b[0m\n\u001b[0m\u001b[0;32m     42\u001b[0m         \u001b[0mmsg\u001b[0m \u001b[1;33m=\u001b[0m \u001b[0mstatus\u001b[0m\u001b[1;33m.\u001b[0m\u001b[0mvalue\u001b[0m\u001b[1;33m\u001b[0m\u001b[1;33m\u001b[0m\u001b[0m\n\u001b[0;32m     43\u001b[0m \u001b[1;33m\u001b[0m\u001b[0m\n",
      "\u001b[1;32m~\\anaconda3\\lib\\site-packages\\qiskit\\providers\\ibmq\\job\\ibmqjob.py\u001b[0m in \u001b[0;36mstatus\u001b[1;34m(self)\u001b[0m\n\u001b[0;32m    499\u001b[0m \u001b[1;33m\u001b[0m\u001b[0m\n\u001b[0;32m    500\u001b[0m         \u001b[1;32mwith\u001b[0m \u001b[0mapi_to_job_error\u001b[0m\u001b[1;33m(\u001b[0m\u001b[1;33m)\u001b[0m\u001b[1;33m:\u001b[0m\u001b[1;33m\u001b[0m\u001b[1;33m\u001b[0m\u001b[0m\n\u001b[1;32m--> 501\u001b[1;33m             \u001b[0mapi_response\u001b[0m \u001b[1;33m=\u001b[0m \u001b[0mself\u001b[0m\u001b[1;33m.\u001b[0m\u001b[0m_api_client\u001b[0m\u001b[1;33m.\u001b[0m\u001b[0mjob_status\u001b[0m\u001b[1;33m(\u001b[0m\u001b[0mself\u001b[0m\u001b[1;33m.\u001b[0m\u001b[0mjob_id\u001b[0m\u001b[1;33m(\u001b[0m\u001b[1;33m)\u001b[0m\u001b[1;33m)\u001b[0m\u001b[1;33m\u001b[0m\u001b[1;33m\u001b[0m\u001b[0m\n\u001b[0m\u001b[0;32m    502\u001b[0m             \u001b[0mself\u001b[0m\u001b[1;33m.\u001b[0m\u001b[0m_api_status\u001b[0m \u001b[1;33m=\u001b[0m \u001b[0mapi_response\u001b[0m\u001b[1;33m[\u001b[0m\u001b[1;34m'status'\u001b[0m\u001b[1;33m]\u001b[0m\u001b[1;33m\u001b[0m\u001b[1;33m\u001b[0m\u001b[0m\n\u001b[0;32m    503\u001b[0m             self._status, self._queue_info = self._get_status_position(\n",
      "\u001b[1;32m~\\anaconda3\\lib\\site-packages\\qiskit\\providers\\ibmq\\api\\clients\\account.py\u001b[0m in \u001b[0;36mjob_status\u001b[1;34m(self, job_id)\u001b[0m\n\u001b[0;32m    336\u001b[0m             \u001b[0mApiIBMQProtocolError\u001b[0m\u001b[1;33m:\u001b[0m \u001b[0mIf\u001b[0m \u001b[0munexpected\u001b[0m \u001b[0mdata\u001b[0m \u001b[1;32mis\u001b[0m \u001b[0mreceived\u001b[0m \u001b[1;32mfrom\u001b[0m \u001b[0mthe\u001b[0m \u001b[0mserver\u001b[0m\u001b[1;33m.\u001b[0m\u001b[1;33m\u001b[0m\u001b[1;33m\u001b[0m\u001b[0m\n\u001b[0;32m    337\u001b[0m         \"\"\"\n\u001b[1;32m--> 338\u001b[1;33m         \u001b[1;32mreturn\u001b[0m \u001b[0mself\u001b[0m\u001b[1;33m.\u001b[0m\u001b[0maccount_api\u001b[0m\u001b[1;33m.\u001b[0m\u001b[0mjob\u001b[0m\u001b[1;33m(\u001b[0m\u001b[0mjob_id\u001b[0m\u001b[1;33m)\u001b[0m\u001b[1;33m.\u001b[0m\u001b[0mstatus\u001b[0m\u001b[1;33m(\u001b[0m\u001b[1;33m)\u001b[0m\u001b[1;33m\u001b[0m\u001b[1;33m\u001b[0m\u001b[0m\n\u001b[0m\u001b[0;32m    339\u001b[0m \u001b[1;33m\u001b[0m\u001b[0m\n\u001b[0;32m    340\u001b[0m     def job_final_status(\n",
      "\u001b[1;32m~\\anaconda3\\lib\\site-packages\\qiskit\\providers\\ibmq\\api\\rest\\job.py\u001b[0m in \u001b[0;36mstatus\u001b[1;34m(self)\u001b[0m\n\u001b[0;32m    159\u001b[0m         \"\"\"\n\u001b[0;32m    160\u001b[0m         \u001b[0murl\u001b[0m \u001b[1;33m=\u001b[0m \u001b[0mself\u001b[0m\u001b[1;33m.\u001b[0m\u001b[0mget_url\u001b[0m\u001b[1;33m(\u001b[0m\u001b[1;34m'status'\u001b[0m\u001b[1;33m)\u001b[0m\u001b[1;33m\u001b[0m\u001b[1;33m\u001b[0m\u001b[0m\n\u001b[1;32m--> 161\u001b[1;33m         \u001b[0mraw_response\u001b[0m \u001b[1;33m=\u001b[0m \u001b[0mself\u001b[0m\u001b[1;33m.\u001b[0m\u001b[0msession\u001b[0m\u001b[1;33m.\u001b[0m\u001b[0mget\u001b[0m\u001b[1;33m(\u001b[0m\u001b[0murl\u001b[0m\u001b[1;33m)\u001b[0m\u001b[1;33m\u001b[0m\u001b[1;33m\u001b[0m\u001b[0m\n\u001b[0m\u001b[0;32m    162\u001b[0m         \u001b[1;32mtry\u001b[0m\u001b[1;33m:\u001b[0m\u001b[1;33m\u001b[0m\u001b[1;33m\u001b[0m\u001b[0m\n\u001b[0;32m    163\u001b[0m             \u001b[0mapi_response\u001b[0m \u001b[1;33m=\u001b[0m \u001b[0mraw_response\u001b[0m\u001b[1;33m.\u001b[0m\u001b[0mjson\u001b[0m\u001b[1;33m(\u001b[0m\u001b[1;33m)\u001b[0m\u001b[1;33m\u001b[0m\u001b[1;33m\u001b[0m\u001b[0m\n",
      "\u001b[1;32m~\\anaconda3\\lib\\site-packages\\requests\\sessions.py\u001b[0m in \u001b[0;36mget\u001b[1;34m(self, url, **kwargs)\u001b[0m\n\u001b[0;32m    541\u001b[0m \u001b[1;33m\u001b[0m\u001b[0m\n\u001b[0;32m    542\u001b[0m         \u001b[0mkwargs\u001b[0m\u001b[1;33m.\u001b[0m\u001b[0msetdefault\u001b[0m\u001b[1;33m(\u001b[0m\u001b[1;34m'allow_redirects'\u001b[0m\u001b[1;33m,\u001b[0m \u001b[1;32mTrue\u001b[0m\u001b[1;33m)\u001b[0m\u001b[1;33m\u001b[0m\u001b[1;33m\u001b[0m\u001b[0m\n\u001b[1;32m--> 543\u001b[1;33m         \u001b[1;32mreturn\u001b[0m \u001b[0mself\u001b[0m\u001b[1;33m.\u001b[0m\u001b[0mrequest\u001b[0m\u001b[1;33m(\u001b[0m\u001b[1;34m'GET'\u001b[0m\u001b[1;33m,\u001b[0m \u001b[0murl\u001b[0m\u001b[1;33m,\u001b[0m \u001b[1;33m**\u001b[0m\u001b[0mkwargs\u001b[0m\u001b[1;33m)\u001b[0m\u001b[1;33m\u001b[0m\u001b[1;33m\u001b[0m\u001b[0m\n\u001b[0m\u001b[0;32m    544\u001b[0m \u001b[1;33m\u001b[0m\u001b[0m\n\u001b[0;32m    545\u001b[0m     \u001b[1;32mdef\u001b[0m \u001b[0moptions\u001b[0m\u001b[1;33m(\u001b[0m\u001b[0mself\u001b[0m\u001b[1;33m,\u001b[0m \u001b[0murl\u001b[0m\u001b[1;33m,\u001b[0m \u001b[1;33m**\u001b[0m\u001b[0mkwargs\u001b[0m\u001b[1;33m)\u001b[0m\u001b[1;33m:\u001b[0m\u001b[1;33m\u001b[0m\u001b[1;33m\u001b[0m\u001b[0m\n",
      "\u001b[1;32m~\\anaconda3\\lib\\site-packages\\qiskit\\providers\\ibmq\\api\\session.py\u001b[0m in \u001b[0;36mrequest\u001b[1;34m(self, method, url, bare, **kwargs)\u001b[0m\n\u001b[0;32m    271\u001b[0m         \u001b[1;32mtry\u001b[0m\u001b[1;33m:\u001b[0m\u001b[1;33m\u001b[0m\u001b[1;33m\u001b[0m\u001b[0m\n\u001b[0;32m    272\u001b[0m             \u001b[0mself\u001b[0m\u001b[1;33m.\u001b[0m\u001b[0m_log_request_info\u001b[0m\u001b[1;33m(\u001b[0m\u001b[0murl\u001b[0m\u001b[1;33m,\u001b[0m \u001b[0mmethod\u001b[0m\u001b[1;33m,\u001b[0m \u001b[0mkwargs\u001b[0m\u001b[1;33m)\u001b[0m\u001b[1;33m\u001b[0m\u001b[1;33m\u001b[0m\u001b[0m\n\u001b[1;32m--> 273\u001b[1;33m             \u001b[0mresponse\u001b[0m \u001b[1;33m=\u001b[0m \u001b[0msuper\u001b[0m\u001b[1;33m(\u001b[0m\u001b[1;33m)\u001b[0m\u001b[1;33m.\u001b[0m\u001b[0mrequest\u001b[0m\u001b[1;33m(\u001b[0m\u001b[0mmethod\u001b[0m\u001b[1;33m,\u001b[0m \u001b[0mfinal_url\u001b[0m\u001b[1;33m,\u001b[0m \u001b[0mheaders\u001b[0m\u001b[1;33m=\u001b[0m\u001b[0mheaders\u001b[0m\u001b[1;33m,\u001b[0m \u001b[1;33m**\u001b[0m\u001b[0mkwargs\u001b[0m\u001b[1;33m)\u001b[0m\u001b[1;33m\u001b[0m\u001b[1;33m\u001b[0m\u001b[0m\n\u001b[0m\u001b[0;32m    274\u001b[0m             \u001b[0mresponse\u001b[0m\u001b[1;33m.\u001b[0m\u001b[0mraise_for_status\u001b[0m\u001b[1;33m(\u001b[0m\u001b[1;33m)\u001b[0m\u001b[1;33m\u001b[0m\u001b[1;33m\u001b[0m\u001b[0m\n\u001b[0;32m    275\u001b[0m         \u001b[1;32mexcept\u001b[0m \u001b[0mRequestException\u001b[0m \u001b[1;32mas\u001b[0m \u001b[0mex\u001b[0m\u001b[1;33m:\u001b[0m\u001b[1;33m\u001b[0m\u001b[1;33m\u001b[0m\u001b[0m\n",
      "\u001b[1;32m~\\anaconda3\\lib\\site-packages\\requests\\sessions.py\u001b[0m in \u001b[0;36mrequest\u001b[1;34m(self, method, url, params, data, headers, cookies, files, auth, timeout, allow_redirects, proxies, hooks, stream, verify, cert, json)\u001b[0m\n\u001b[0;32m    528\u001b[0m         }\n\u001b[0;32m    529\u001b[0m         \u001b[0msend_kwargs\u001b[0m\u001b[1;33m.\u001b[0m\u001b[0mupdate\u001b[0m\u001b[1;33m(\u001b[0m\u001b[0msettings\u001b[0m\u001b[1;33m)\u001b[0m\u001b[1;33m\u001b[0m\u001b[1;33m\u001b[0m\u001b[0m\n\u001b[1;32m--> 530\u001b[1;33m         \u001b[0mresp\u001b[0m \u001b[1;33m=\u001b[0m \u001b[0mself\u001b[0m\u001b[1;33m.\u001b[0m\u001b[0msend\u001b[0m\u001b[1;33m(\u001b[0m\u001b[0mprep\u001b[0m\u001b[1;33m,\u001b[0m \u001b[1;33m**\u001b[0m\u001b[0msend_kwargs\u001b[0m\u001b[1;33m)\u001b[0m\u001b[1;33m\u001b[0m\u001b[1;33m\u001b[0m\u001b[0m\n\u001b[0m\u001b[0;32m    531\u001b[0m \u001b[1;33m\u001b[0m\u001b[0m\n\u001b[0;32m    532\u001b[0m         \u001b[1;32mreturn\u001b[0m \u001b[0mresp\u001b[0m\u001b[1;33m\u001b[0m\u001b[1;33m\u001b[0m\u001b[0m\n",
      "\u001b[1;32m~\\anaconda3\\lib\\site-packages\\requests\\sessions.py\u001b[0m in \u001b[0;36msend\u001b[1;34m(self, request, **kwargs)\u001b[0m\n\u001b[0;32m    641\u001b[0m \u001b[1;33m\u001b[0m\u001b[0m\n\u001b[0;32m    642\u001b[0m         \u001b[1;31m# Send the request\u001b[0m\u001b[1;33m\u001b[0m\u001b[1;33m\u001b[0m\u001b[1;33m\u001b[0m\u001b[0m\n\u001b[1;32m--> 643\u001b[1;33m         \u001b[0mr\u001b[0m \u001b[1;33m=\u001b[0m \u001b[0madapter\u001b[0m\u001b[1;33m.\u001b[0m\u001b[0msend\u001b[0m\u001b[1;33m(\u001b[0m\u001b[0mrequest\u001b[0m\u001b[1;33m,\u001b[0m \u001b[1;33m**\u001b[0m\u001b[0mkwargs\u001b[0m\u001b[1;33m)\u001b[0m\u001b[1;33m\u001b[0m\u001b[1;33m\u001b[0m\u001b[0m\n\u001b[0m\u001b[0;32m    644\u001b[0m \u001b[1;33m\u001b[0m\u001b[0m\n\u001b[0;32m    645\u001b[0m         \u001b[1;31m# Total elapsed time of the request (approximately)\u001b[0m\u001b[1;33m\u001b[0m\u001b[1;33m\u001b[0m\u001b[1;33m\u001b[0m\u001b[0m\n",
      "\u001b[1;32m~\\anaconda3\\lib\\site-packages\\requests\\adapters.py\u001b[0m in \u001b[0;36msend\u001b[1;34m(self, request, stream, timeout, verify, cert, proxies)\u001b[0m\n\u001b[0;32m    437\u001b[0m         \u001b[1;32mtry\u001b[0m\u001b[1;33m:\u001b[0m\u001b[1;33m\u001b[0m\u001b[1;33m\u001b[0m\u001b[0m\n\u001b[0;32m    438\u001b[0m             \u001b[1;32mif\u001b[0m \u001b[1;32mnot\u001b[0m \u001b[0mchunked\u001b[0m\u001b[1;33m:\u001b[0m\u001b[1;33m\u001b[0m\u001b[1;33m\u001b[0m\u001b[0m\n\u001b[1;32m--> 439\u001b[1;33m                 resp = conn.urlopen(\n\u001b[0m\u001b[0;32m    440\u001b[0m                     \u001b[0mmethod\u001b[0m\u001b[1;33m=\u001b[0m\u001b[0mrequest\u001b[0m\u001b[1;33m.\u001b[0m\u001b[0mmethod\u001b[0m\u001b[1;33m,\u001b[0m\u001b[1;33m\u001b[0m\u001b[1;33m\u001b[0m\u001b[0m\n\u001b[0;32m    441\u001b[0m                     \u001b[0murl\u001b[0m\u001b[1;33m=\u001b[0m\u001b[0murl\u001b[0m\u001b[1;33m,\u001b[0m\u001b[1;33m\u001b[0m\u001b[1;33m\u001b[0m\u001b[0m\n",
      "\u001b[1;32m~\\anaconda3\\lib\\site-packages\\urllib3\\connectionpool.py\u001b[0m in \u001b[0;36murlopen\u001b[1;34m(self, method, url, body, headers, retries, redirect, assert_same_host, timeout, pool_timeout, release_conn, chunked, body_pos, **response_kw)\u001b[0m\n\u001b[0;32m    668\u001b[0m \u001b[1;33m\u001b[0m\u001b[0m\n\u001b[0;32m    669\u001b[0m             \u001b[1;31m# Make the request on the httplib connection object.\u001b[0m\u001b[1;33m\u001b[0m\u001b[1;33m\u001b[0m\u001b[1;33m\u001b[0m\u001b[0m\n\u001b[1;32m--> 670\u001b[1;33m             httplib_response = self._make_request(\n\u001b[0m\u001b[0;32m    671\u001b[0m                 \u001b[0mconn\u001b[0m\u001b[1;33m,\u001b[0m\u001b[1;33m\u001b[0m\u001b[1;33m\u001b[0m\u001b[0m\n\u001b[0;32m    672\u001b[0m                 \u001b[0mmethod\u001b[0m\u001b[1;33m,\u001b[0m\u001b[1;33m\u001b[0m\u001b[1;33m\u001b[0m\u001b[0m\n",
      "\u001b[1;32m~\\anaconda3\\lib\\site-packages\\urllib3\\connectionpool.py\u001b[0m in \u001b[0;36m_make_request\u001b[1;34m(self, conn, method, url, timeout, chunked, **httplib_request_kw)\u001b[0m\n\u001b[0;32m    424\u001b[0m                     \u001b[1;31m# Python 3 (including for exceptions like SystemExit).\u001b[0m\u001b[1;33m\u001b[0m\u001b[1;33m\u001b[0m\u001b[1;33m\u001b[0m\u001b[0m\n\u001b[0;32m    425\u001b[0m                     \u001b[1;31m# Otherwise it looks like a bug in the code.\u001b[0m\u001b[1;33m\u001b[0m\u001b[1;33m\u001b[0m\u001b[1;33m\u001b[0m\u001b[0m\n\u001b[1;32m--> 426\u001b[1;33m                     \u001b[0msix\u001b[0m\u001b[1;33m.\u001b[0m\u001b[0mraise_from\u001b[0m\u001b[1;33m(\u001b[0m\u001b[0me\u001b[0m\u001b[1;33m,\u001b[0m \u001b[1;32mNone\u001b[0m\u001b[1;33m)\u001b[0m\u001b[1;33m\u001b[0m\u001b[1;33m\u001b[0m\u001b[0m\n\u001b[0m\u001b[0;32m    427\u001b[0m         \u001b[1;32mexcept\u001b[0m \u001b[1;33m(\u001b[0m\u001b[0mSocketTimeout\u001b[0m\u001b[1;33m,\u001b[0m \u001b[0mBaseSSLError\u001b[0m\u001b[1;33m,\u001b[0m \u001b[0mSocketError\u001b[0m\u001b[1;33m)\u001b[0m \u001b[1;32mas\u001b[0m \u001b[0me\u001b[0m\u001b[1;33m:\u001b[0m\u001b[1;33m\u001b[0m\u001b[1;33m\u001b[0m\u001b[0m\n\u001b[0;32m    428\u001b[0m             \u001b[0mself\u001b[0m\u001b[1;33m.\u001b[0m\u001b[0m_raise_timeout\u001b[0m\u001b[1;33m(\u001b[0m\u001b[0merr\u001b[0m\u001b[1;33m=\u001b[0m\u001b[0me\u001b[0m\u001b[1;33m,\u001b[0m \u001b[0murl\u001b[0m\u001b[1;33m=\u001b[0m\u001b[0murl\u001b[0m\u001b[1;33m,\u001b[0m \u001b[0mtimeout_value\u001b[0m\u001b[1;33m=\u001b[0m\u001b[0mread_timeout\u001b[0m\u001b[1;33m)\u001b[0m\u001b[1;33m\u001b[0m\u001b[1;33m\u001b[0m\u001b[0m\n",
      "\u001b[1;32m~\\anaconda3\\lib\\site-packages\\urllib3\\packages\\six.py\u001b[0m in \u001b[0;36mraise_from\u001b[1;34m(value, from_value)\u001b[0m\n",
      "\u001b[1;32m~\\anaconda3\\lib\\site-packages\\urllib3\\connectionpool.py\u001b[0m in \u001b[0;36m_make_request\u001b[1;34m(self, conn, method, url, timeout, chunked, **httplib_request_kw)\u001b[0m\n\u001b[0;32m    419\u001b[0m                 \u001b[1;31m# Python 3\u001b[0m\u001b[1;33m\u001b[0m\u001b[1;33m\u001b[0m\u001b[1;33m\u001b[0m\u001b[0m\n\u001b[0;32m    420\u001b[0m                 \u001b[1;32mtry\u001b[0m\u001b[1;33m:\u001b[0m\u001b[1;33m\u001b[0m\u001b[1;33m\u001b[0m\u001b[0m\n\u001b[1;32m--> 421\u001b[1;33m                     \u001b[0mhttplib_response\u001b[0m \u001b[1;33m=\u001b[0m \u001b[0mconn\u001b[0m\u001b[1;33m.\u001b[0m\u001b[0mgetresponse\u001b[0m\u001b[1;33m(\u001b[0m\u001b[1;33m)\u001b[0m\u001b[1;33m\u001b[0m\u001b[1;33m\u001b[0m\u001b[0m\n\u001b[0m\u001b[0;32m    422\u001b[0m                 \u001b[1;32mexcept\u001b[0m \u001b[0mBaseException\u001b[0m \u001b[1;32mas\u001b[0m \u001b[0me\u001b[0m\u001b[1;33m:\u001b[0m\u001b[1;33m\u001b[0m\u001b[1;33m\u001b[0m\u001b[0m\n\u001b[0;32m    423\u001b[0m                     \u001b[1;31m# Remove the TypeError from the exception chain in\u001b[0m\u001b[1;33m\u001b[0m\u001b[1;33m\u001b[0m\u001b[1;33m\u001b[0m\u001b[0m\n",
      "\u001b[1;32m~\\anaconda3\\lib\\http\\client.py\u001b[0m in \u001b[0;36mgetresponse\u001b[1;34m(self)\u001b[0m\n\u001b[0;32m   1345\u001b[0m         \u001b[1;32mtry\u001b[0m\u001b[1;33m:\u001b[0m\u001b[1;33m\u001b[0m\u001b[1;33m\u001b[0m\u001b[0m\n\u001b[0;32m   1346\u001b[0m             \u001b[1;32mtry\u001b[0m\u001b[1;33m:\u001b[0m\u001b[1;33m\u001b[0m\u001b[1;33m\u001b[0m\u001b[0m\n\u001b[1;32m-> 1347\u001b[1;33m                 \u001b[0mresponse\u001b[0m\u001b[1;33m.\u001b[0m\u001b[0mbegin\u001b[0m\u001b[1;33m(\u001b[0m\u001b[1;33m)\u001b[0m\u001b[1;33m\u001b[0m\u001b[1;33m\u001b[0m\u001b[0m\n\u001b[0m\u001b[0;32m   1348\u001b[0m             \u001b[1;32mexcept\u001b[0m \u001b[0mConnectionError\u001b[0m\u001b[1;33m:\u001b[0m\u001b[1;33m\u001b[0m\u001b[1;33m\u001b[0m\u001b[0m\n\u001b[0;32m   1349\u001b[0m                 \u001b[0mself\u001b[0m\u001b[1;33m.\u001b[0m\u001b[0mclose\u001b[0m\u001b[1;33m(\u001b[0m\u001b[1;33m)\u001b[0m\u001b[1;33m\u001b[0m\u001b[1;33m\u001b[0m\u001b[0m\n",
      "\u001b[1;32m~\\anaconda3\\lib\\http\\client.py\u001b[0m in \u001b[0;36mbegin\u001b[1;34m(self)\u001b[0m\n\u001b[0;32m    305\u001b[0m         \u001b[1;31m# read until we get a non-100 response\u001b[0m\u001b[1;33m\u001b[0m\u001b[1;33m\u001b[0m\u001b[1;33m\u001b[0m\u001b[0m\n\u001b[0;32m    306\u001b[0m         \u001b[1;32mwhile\u001b[0m \u001b[1;32mTrue\u001b[0m\u001b[1;33m:\u001b[0m\u001b[1;33m\u001b[0m\u001b[1;33m\u001b[0m\u001b[0m\n\u001b[1;32m--> 307\u001b[1;33m             \u001b[0mversion\u001b[0m\u001b[1;33m,\u001b[0m \u001b[0mstatus\u001b[0m\u001b[1;33m,\u001b[0m \u001b[0mreason\u001b[0m \u001b[1;33m=\u001b[0m \u001b[0mself\u001b[0m\u001b[1;33m.\u001b[0m\u001b[0m_read_status\u001b[0m\u001b[1;33m(\u001b[0m\u001b[1;33m)\u001b[0m\u001b[1;33m\u001b[0m\u001b[1;33m\u001b[0m\u001b[0m\n\u001b[0m\u001b[0;32m    308\u001b[0m             \u001b[1;32mif\u001b[0m \u001b[0mstatus\u001b[0m \u001b[1;33m!=\u001b[0m \u001b[0mCONTINUE\u001b[0m\u001b[1;33m:\u001b[0m\u001b[1;33m\u001b[0m\u001b[1;33m\u001b[0m\u001b[0m\n\u001b[0;32m    309\u001b[0m                 \u001b[1;32mbreak\u001b[0m\u001b[1;33m\u001b[0m\u001b[1;33m\u001b[0m\u001b[0m\n",
      "\u001b[1;32m~\\anaconda3\\lib\\http\\client.py\u001b[0m in \u001b[0;36m_read_status\u001b[1;34m(self)\u001b[0m\n\u001b[0;32m    266\u001b[0m \u001b[1;33m\u001b[0m\u001b[0m\n\u001b[0;32m    267\u001b[0m     \u001b[1;32mdef\u001b[0m \u001b[0m_read_status\u001b[0m\u001b[1;33m(\u001b[0m\u001b[0mself\u001b[0m\u001b[1;33m)\u001b[0m\u001b[1;33m:\u001b[0m\u001b[1;33m\u001b[0m\u001b[1;33m\u001b[0m\u001b[0m\n\u001b[1;32m--> 268\u001b[1;33m         \u001b[0mline\u001b[0m \u001b[1;33m=\u001b[0m \u001b[0mstr\u001b[0m\u001b[1;33m(\u001b[0m\u001b[0mself\u001b[0m\u001b[1;33m.\u001b[0m\u001b[0mfp\u001b[0m\u001b[1;33m.\u001b[0m\u001b[0mreadline\u001b[0m\u001b[1;33m(\u001b[0m\u001b[0m_MAXLINE\u001b[0m \u001b[1;33m+\u001b[0m \u001b[1;36m1\u001b[0m\u001b[1;33m)\u001b[0m\u001b[1;33m,\u001b[0m \u001b[1;34m\"iso-8859-1\"\u001b[0m\u001b[1;33m)\u001b[0m\u001b[1;33m\u001b[0m\u001b[1;33m\u001b[0m\u001b[0m\n\u001b[0m\u001b[0;32m    269\u001b[0m         \u001b[1;32mif\u001b[0m \u001b[0mlen\u001b[0m\u001b[1;33m(\u001b[0m\u001b[0mline\u001b[0m\u001b[1;33m)\u001b[0m \u001b[1;33m>\u001b[0m \u001b[0m_MAXLINE\u001b[0m\u001b[1;33m:\u001b[0m\u001b[1;33m\u001b[0m\u001b[1;33m\u001b[0m\u001b[0m\n\u001b[0;32m    270\u001b[0m             \u001b[1;32mraise\u001b[0m \u001b[0mLineTooLong\u001b[0m\u001b[1;33m(\u001b[0m\u001b[1;34m\"status line\"\u001b[0m\u001b[1;33m)\u001b[0m\u001b[1;33m\u001b[0m\u001b[1;33m\u001b[0m\u001b[0m\n",
      "\u001b[1;32m~\\anaconda3\\lib\\socket.py\u001b[0m in \u001b[0;36mreadinto\u001b[1;34m(self, b)\u001b[0m\n\u001b[0;32m    667\u001b[0m         \u001b[1;32mwhile\u001b[0m \u001b[1;32mTrue\u001b[0m\u001b[1;33m:\u001b[0m\u001b[1;33m\u001b[0m\u001b[1;33m\u001b[0m\u001b[0m\n\u001b[0;32m    668\u001b[0m             \u001b[1;32mtry\u001b[0m\u001b[1;33m:\u001b[0m\u001b[1;33m\u001b[0m\u001b[1;33m\u001b[0m\u001b[0m\n\u001b[1;32m--> 669\u001b[1;33m                 \u001b[1;32mreturn\u001b[0m \u001b[0mself\u001b[0m\u001b[1;33m.\u001b[0m\u001b[0m_sock\u001b[0m\u001b[1;33m.\u001b[0m\u001b[0mrecv_into\u001b[0m\u001b[1;33m(\u001b[0m\u001b[0mb\u001b[0m\u001b[1;33m)\u001b[0m\u001b[1;33m\u001b[0m\u001b[1;33m\u001b[0m\u001b[0m\n\u001b[0m\u001b[0;32m    670\u001b[0m             \u001b[1;32mexcept\u001b[0m \u001b[0mtimeout\u001b[0m\u001b[1;33m:\u001b[0m\u001b[1;33m\u001b[0m\u001b[1;33m\u001b[0m\u001b[0m\n\u001b[0;32m    671\u001b[0m                 \u001b[0mself\u001b[0m\u001b[1;33m.\u001b[0m\u001b[0m_timeout_occurred\u001b[0m \u001b[1;33m=\u001b[0m \u001b[1;32mTrue\u001b[0m\u001b[1;33m\u001b[0m\u001b[1;33m\u001b[0m\u001b[0m\n",
      "\u001b[1;32m~\\anaconda3\\lib\\ssl.py\u001b[0m in \u001b[0;36mrecv_into\u001b[1;34m(self, buffer, nbytes, flags)\u001b[0m\n\u001b[0;32m   1239\u001b[0m                   \u001b[1;34m\"non-zero flags not allowed in calls to recv_into() on %s\"\u001b[0m \u001b[1;33m%\u001b[0m\u001b[1;33m\u001b[0m\u001b[1;33m\u001b[0m\u001b[0m\n\u001b[0;32m   1240\u001b[0m                   self.__class__)\n\u001b[1;32m-> 1241\u001b[1;33m             \u001b[1;32mreturn\u001b[0m \u001b[0mself\u001b[0m\u001b[1;33m.\u001b[0m\u001b[0mread\u001b[0m\u001b[1;33m(\u001b[0m\u001b[0mnbytes\u001b[0m\u001b[1;33m,\u001b[0m \u001b[0mbuffer\u001b[0m\u001b[1;33m)\u001b[0m\u001b[1;33m\u001b[0m\u001b[1;33m\u001b[0m\u001b[0m\n\u001b[0m\u001b[0;32m   1242\u001b[0m         \u001b[1;32melse\u001b[0m\u001b[1;33m:\u001b[0m\u001b[1;33m\u001b[0m\u001b[1;33m\u001b[0m\u001b[0m\n\u001b[0;32m   1243\u001b[0m             \u001b[1;32mreturn\u001b[0m \u001b[0msuper\u001b[0m\u001b[1;33m(\u001b[0m\u001b[1;33m)\u001b[0m\u001b[1;33m.\u001b[0m\u001b[0mrecv_into\u001b[0m\u001b[1;33m(\u001b[0m\u001b[0mbuffer\u001b[0m\u001b[1;33m,\u001b[0m \u001b[0mnbytes\u001b[0m\u001b[1;33m,\u001b[0m \u001b[0mflags\u001b[0m\u001b[1;33m)\u001b[0m\u001b[1;33m\u001b[0m\u001b[1;33m\u001b[0m\u001b[0m\n",
      "\u001b[1;32m~\\anaconda3\\lib\\ssl.py\u001b[0m in \u001b[0;36mread\u001b[1;34m(self, len, buffer)\u001b[0m\n\u001b[0;32m   1097\u001b[0m         \u001b[1;32mtry\u001b[0m\u001b[1;33m:\u001b[0m\u001b[1;33m\u001b[0m\u001b[1;33m\u001b[0m\u001b[0m\n\u001b[0;32m   1098\u001b[0m             \u001b[1;32mif\u001b[0m \u001b[0mbuffer\u001b[0m \u001b[1;32mis\u001b[0m \u001b[1;32mnot\u001b[0m \u001b[1;32mNone\u001b[0m\u001b[1;33m:\u001b[0m\u001b[1;33m\u001b[0m\u001b[1;33m\u001b[0m\u001b[0m\n\u001b[1;32m-> 1099\u001b[1;33m                 \u001b[1;32mreturn\u001b[0m \u001b[0mself\u001b[0m\u001b[1;33m.\u001b[0m\u001b[0m_sslobj\u001b[0m\u001b[1;33m.\u001b[0m\u001b[0mread\u001b[0m\u001b[1;33m(\u001b[0m\u001b[0mlen\u001b[0m\u001b[1;33m,\u001b[0m \u001b[0mbuffer\u001b[0m\u001b[1;33m)\u001b[0m\u001b[1;33m\u001b[0m\u001b[1;33m\u001b[0m\u001b[0m\n\u001b[0m\u001b[0;32m   1100\u001b[0m             \u001b[1;32melse\u001b[0m\u001b[1;33m:\u001b[0m\u001b[1;33m\u001b[0m\u001b[1;33m\u001b[0m\u001b[0m\n\u001b[0;32m   1101\u001b[0m                 \u001b[1;32mreturn\u001b[0m \u001b[0mself\u001b[0m\u001b[1;33m.\u001b[0m\u001b[0m_sslobj\u001b[0m\u001b[1;33m.\u001b[0m\u001b[0mread\u001b[0m\u001b[1;33m(\u001b[0m\u001b[0mlen\u001b[0m\u001b[1;33m)\u001b[0m\u001b[1;33m\u001b[0m\u001b[1;33m\u001b[0m\u001b[0m\n",
      "\u001b[1;31mKeyboardInterrupt\u001b[0m: "
     ]
    }
   ],
   "source": [
    "# Execute the non-interleaved RB circuits as a reference \n",
    "shots=1000\n",
    "basis_gates = ['u1','u2','u3','cx'] # use U,CX for now\n",
    "result_list = []\n",
    "transpile_list = []\n",
    "for rb_seed,rb_circ_seed in enumerate(rb_circs):\n",
    "    print('Compiling seed %d'%rb_seed)\n",
    "    rb_circ_transpile = transpile(rb_circ_seed, basis_gates=basis_gates)\n",
    "    print('Simulating seed %d'%rb_seed)\n",
    "    job = execute(rb_circ_transpile, shots=shots, backend=backend)\n",
    "    job_monitor(job)\n",
    "                \n",
    "    result_list.append(job.result())\n",
    "    transpile_list.append(rb_circ_transpile)    \n",
    "print(\"Finished Simulating\")"
   ]
  },
  {
   "cell_type": "code",
   "execution_count": null,
   "metadata": {},
   "outputs": [],
   "source": [
    "# Plot the non-interleaved RB results\n",
    "rbfit = rb.fitters.RBFitter(result_list[0], xdata, rb_pattern)\n",
    "\n",
    "for seed_num, data in enumerate(result_list):#range(1,len(result_list)):  \n",
    "    plt.figure(figsize=(6, 6))\n",
    "    axis = [plt.subplot(1, 1, 1)]\n",
    "    \n",
    "    # Add another seed to the data\n",
    "    rbfit.add_data([data])\n",
    "    \n",
    "    for i in range(1):\n",
    "        pattern_ind = i\n",
    "\n",
    "        # Plot the essence by calling plot_rb_data\n",
    "        rbfit.plot_rb_data(pattern_ind, ax=axis[i], add_label=True, show_plt=False)\n",
    "\n",
    "        # Add title and label\n",
    "        axis[i].set_title('2 Qubit RB - after seed %d'%(seed_num), fontsize=18)\n",
    "        \n",
    "    # Display\n",
    "    display(plt.gcf())\n",
    "    \n",
    "    # Clear display after each seed and close\n",
    "    clear_output(wait=True)\n",
    "    time.sleep(1.0)\n",
    "    plt.close()"
   ]
  },
  {
   "cell_type": "code",
   "execution_count": null,
   "metadata": {},
   "outputs": [],
   "source": [
    "# Execute the interleaved RB circuits\n",
    "shots=1000\n",
    "basis_gates = ['u1','u2','u3','cx'] # use U,CX for now\n",
    "interleaved_result_list = []\n",
    "interleaved_transpile_list = []\n",
    "for rb_seed,rb_circ_seed in enumerate(circuits_interleaved):\n",
    "    print('Compiling seed %d'%rb_seed)\n",
    "    rb_circ_transpile = transpile(rb_circ_seed, basis_gates=basis_gates)\n",
    "    print('Simulating seed %d'%rb_seed)\n",
    "    job = execute(rb_circ_transpile, shots=shots, backend=backend)\n",
    "    interleaved_result_list.append(job.result())\n",
    "    interleaved_transpile_list.append(rb_circ_transpile)    \n",
    "print(\"Finished Simulating\")"
   ]
  },
  {
   "cell_type": "code",
   "execution_count": null,
   "metadata": {},
   "outputs": [],
   "source": [
    "# Plot the interleaved RB circuit results\n",
    "rbfit = rb.fitters.RBFitter(interleaved_result_list[0], xdata, rb_pattern)\n",
    "\n",
    "for seed_num, data in enumerate(interleaved_result_list):#range(1,len(result_list)):  \n",
    "    plt.figure(figsize=(6, 6))\n",
    "    axis = [plt.subplot(1, 1, 1)]\n",
    "    \n",
    "    # Add another seed to the data\n",
    "    rbfit.add_data([data])\n",
    "    \n",
    "    for i in range(1):\n",
    "        pattern_ind = i\n",
    "\n",
    "        # Plot the essence by calling plot_rb_data\n",
    "        rbfit.plot_rb_data(pattern_ind, ax=axis[i], add_label=True, show_plt=False)\n",
    "\n",
    "        # Add title and label\n",
    "        axis[i].set_title('2 Qubit RB - after seed %d'%(seed_num), fontsize=18)\n",
    "        \n",
    "    # Display\n",
    "    display(plt.gcf())\n",
    "    \n",
    "    # Clear display after each seed and close\n",
    "    clear_output(wait=True)\n",
    "    time.sleep(1.0)\n",
    "    plt.close()"
   ]
  },
  {
   "cell_type": "code",
   "execution_count": null,
   "metadata": {},
   "outputs": [],
   "source": [
    "# Extract the interleaved results and plot\n",
    "rb_fit_interleaved = InterleavedRBFitter(result_list, interleaved_result_list, xdata, rb_pattern)"
   ]
  },
  {
   "cell_type": "code",
   "execution_count": null,
   "metadata": {},
   "outputs": [],
   "source": [
    "plt.figure(figsize=(8, 8))\n",
    "axis = [plt.subplot(1, 1, 1)]\n",
    "rb_fit_interleaved.plot_rb_data(ax=axis[0],add_label=True, show_plt=False)"
   ]
  },
  {
   "cell_type": "markdown",
   "metadata": {},
   "source": [
    "We see that the standard `SWAP` has an error of 2.047%."
   ]
  },
  {
   "cell_type": "markdown",
   "metadata": {},
   "source": [
    "## Pulse `SWAP`"
   ]
  },
  {
   "cell_type": "markdown",
   "metadata": {},
   "source": [
    "In this section we will outline the basic steps of constructing a custom gate using Qiskit Pulse which can then be characterized with the above techniques demonstrated in the above sections.\n",
    "\n",
    "First let's set up by loading the backend details for Qiskit Pulse."
   ]
  },
  {
   "cell_type": "code",
   "execution_count": null,
   "metadata": {},
   "outputs": [],
   "source": [
    "backend = provider.get_backend('ibmq_casablanca')"
   ]
  },
  {
   "cell_type": "code",
   "execution_count": null,
   "metadata": {},
   "outputs": [],
   "source": [
    "## load all the backend parameters for pulse\n",
    "back_defaults = backend.defaults()\n",
    "back_configuration = backend.configuration()\n",
    "back_properties = backend.properties()\n",
    "inst_map = back_defaults.instruction_schedule_map"
   ]
  },
  {
   "cell_type": "markdown",
   "metadata": {},
   "source": [
    "Next, let's take a look at the pulse schedule for the standard `SWAP` gate in Qiskit."
   ]
  },
  {
   "cell_type": "code",
   "execution_count": null,
   "metadata": {},
   "outputs": [],
   "source": [
    "qc_swap_transpiled = transpile(qc_swap, backend, optimization_level=1)\n",
    "sched = schedule(qc_swap_transpiled, backend, inst_map=inst_map)\n",
    "sched.draw()"
   ]
  },
  {
   "cell_type": "markdown",
   "metadata": {},
   "source": [
    "The gate is constructed by 3 `CNOT` gates where each `CNOT` consists of a 2 pulse echoed cross-resonance (CR) drive (https://arxiv.org/pdf/1603.04821.pdf) applied to the control qubit (u1 in the figure) and a on resonant 'rotary echo' (https://arxiv.org/pdf/2007.02925.pdf) applied to the target qubit. The direction of the `CNOT` can be flipped by applying hadamard gates to both qubits before and after the CR drive.\n",
    "\n",
    "You may construct a custom gate using Qiskit Pulse, following these tutorials: [[pulse instructions]](https://github.com/Qiskit/qiskit-tutorials/blob/master/tutorials/circuits_advanced/06_building_pulse_instructions.ipynb) [[pulse schedules]](https://github.com/Qiskit/qiskit-tutorials/blob/master/tutorials/circuits_advanced/07_building_pulse_schedules.ipynb)\n",
    "\n",
    "Once your gate is defined as a circuit element, drop it into this notebook above in order to see how well it performs!"
   ]
  },
  {
   "cell_type": "markdown",
   "metadata": {},
   "source": [
    "## Qiskit version"
   ]
  },
  {
   "cell_type": "code",
   "execution_count": null,
   "metadata": {},
   "outputs": [],
   "source": [
    "%qiskit_version_table"
   ]
  }
 ],
 "metadata": {
  "kernelspec": {
   "display_name": "Python 3",
   "language": "python",
   "name": "python3"
  },
  "language_info": {
   "codemirror_mode": {
    "name": "ipython",
    "version": 3
   },
   "file_extension": ".py",
   "mimetype": "text/x-python",
   "name": "python",
   "nbconvert_exporter": "python",
   "pygments_lexer": "ipython3",
   "version": "3.8.5"
  }
 },
 "nbformat": 4,
 "nbformat_minor": 4
}
